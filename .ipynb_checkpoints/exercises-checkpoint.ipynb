{
 "cells": [
  {
   "cell_type": "markdown",
   "id": "6f93b4e6",
   "metadata": {},
   "source": [
    "## [Python] Reverse complement\n",
    "\n",
    "1. Write a function to compute the reverse complement of a DNA sequence. \\\n",
    "   **Note:** The reverse complement is formed by reversing the letters, interchanging A and T and interchanging C and G.\\\n",
    "   **Ex:** The reverse complement of AACT is AGTT\n",
    "2. Write a few test cases of your choice"
   ]
  },
  {
   "cell_type": "code",
   "execution_count": 1,
   "id": "0873d997",
   "metadata": {},
   "outputs": [],
   "source": [
    "# Write here"
   ]
  },
  {
   "cell_type": "markdown",
   "id": "8a2df441",
   "metadata": {},
   "source": [
    "## [Python] Tabular file handling\n",
    "\n",
    "1. Read the CSV file at: \n",
    "https://raw.githubusercontent.com/Puumanamana/rome-interview/main/sample_data.csv\n",
    "2. How many genes and samples is there?\n",
    "3. Make a boxplot of gene expression values for each gene, separating groups"
   ]
  },
  {
   "cell_type": "code",
   "execution_count": 5,
   "id": "52aaac65",
   "metadata": {},
   "outputs": [],
   "source": [
    "# Write here"
   ]
  },
  {
   "cell_type": "markdown",
   "id": "e12b786a",
   "metadata": {},
   "source": [
    "## [SQL] queries\n",
    "\n",
    "\n",
    "Given a database with the following tables (**bold** entries represent primary keys):\n",
    "\n",
    "### genes table\n",
    "\n",
    "| Column name | dtype | Description                  |\n",
    "| ----------- | ----- | ---------------------------- |\n",
    "| **gene_id** | TEXT  | Unique gene ID               |\n",
    "| gene_label  | TEXT  | Gene name commonly used      |\n",
    "| chromosome  | TEXT  | 'chr' + chromosome number    |\n",
    "| chr_start   | TEXT  | Start position on chromosome |\n",
    "| chr_end     | TEXT  | End position on chromosome   |\n",
    "\n",
    "### pathways table\n",
    "\n",
    "Pathways group genes into coherent sets with a known function (e.g. immune response, cell death, ...). Note that one gene can belong to multiple pathways if it has multiple functions.\n",
    "\n",
    "| Column name    | dtype | Description                         |\n",
    "| -------------- | ----- | ----------------------------------- |\n",
    "| **pathway_id** | TEXT  | Unique pathway ID                   |\n",
    "| **gene_id**    | TEXT  | Gene ID, foreign key for gene table |\n",
    "| pathway_name   | TEXT  | Pathway name commonly used          |\n",
    "\n",
    "### Exercise\n",
    "\n",
    "Write a query to:\n",
    "- Show all gene entries on chromosome 10\n",
    "- Show the gene labels of genes in the HALLMARK_INTERFERON_ALPHA_RESPONSE pathway\n",
    "\n",
    "Note: if using sqlite3, you can download and query the database at:\\\n",
    "https://raw.githubusercontent.com/Puumanamana/rome-interview/main/test.db"
   ]
  },
  {
   "cell_type": "code",
   "execution_count": 6,
   "id": "a3d8beb3",
   "metadata": {},
   "outputs": [],
   "source": [
    "# Write here"
   ]
  }
 ],
 "metadata": {
  "kernelspec": {
   "display_name": "Python 3 (ipykernel)",
   "language": "python",
   "name": "python3"
  },
  "language_info": {
   "codemirror_mode": {
    "name": "ipython",
    "version": 3
   },
   "file_extension": ".py",
   "mimetype": "text/x-python",
   "name": "python",
   "nbconvert_exporter": "python",
   "pygments_lexer": "ipython3",
   "version": "3.11.0"
  }
 },
 "nbformat": 4,
 "nbformat_minor": 5
}
